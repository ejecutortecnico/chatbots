{
 "cells": [
  {
   "cell_type": "code",
   "execution_count": 4,
   "id": "349feb2f-7c41-4758-a18c-ac18c4d9c3ed",
   "metadata": {},
   "outputs": [
    {
     "data": {
      "text/plain": [
       "['.git',\n",
       " '.ipynb_checkpoints',\n",
       " '.venv',\n",
       " 'agruparpandas.py',\n",
       " 'chatbot1.py',\n",
       " 'chatbot2.py',\n",
       " 'chatbot3.py',\n",
       " 'chatbot4.py',\n",
       " 'chatbot5.py',\n",
       " 'chatbot6.py',\n",
       " 'datahousemel.py',\n",
       " 'dataoiwa.py',\n",
       " 'dataset.json',\n",
       " 'datoschat.csv',\n",
       " 'dialogos.csv',\n",
       " 'gymai.py',\n",
       " 'melb_data.csv',\n",
       " 'myvenv',\n",
       " 'poblacion.csv',\n",
       " 'poblacion_real.csv',\n",
       " 'population.py',\n",
       " 'shaskpeare.txt',\n",
       " 'train.csv',\n",
       " 'training.py',\n",
       " 'Untitled.ipynb']"
      ]
     },
     "execution_count": 4,
     "metadata": {},
     "output_type": "execute_result"
    }
   ],
   "source": [
    "import os\n",
    "os.listdir()"
   ]
  },
  {
   "cell_type": "code",
   "execution_count": null,
   "id": "ab8f4700-6db9-45d6-a908-9d66a96a4cb8",
   "metadata": {},
   "outputs": [],
   "source": []
  },
  {
   "cell_type": "code",
   "execution_count": null,
   "id": "270c9f7c-3e08-4a15-aa1e-5bab5dab2ec1",
   "metadata": {},
   "outputs": [],
   "source": []
  }
 ],
 "metadata": {
  "kernelspec": {
   "display_name": "Python 3 (ipykernel)",
   "language": "python",
   "name": "python3"
  },
  "language_info": {
   "codemirror_mode": {
    "name": "ipython",
    "version": 3
   },
   "file_extension": ".py",
   "mimetype": "text/x-python",
   "name": "python",
   "nbconvert_exporter": "python",
   "pygments_lexer": "ipython3",
   "version": "3.10.10"
  }
 },
 "nbformat": 4,
 "nbformat_minor": 5
}
